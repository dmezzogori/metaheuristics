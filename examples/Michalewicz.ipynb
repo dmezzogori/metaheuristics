{
 "cells": [
  {
   "cell_type": "code",
   "execution_count": 1,
   "metadata": {},
   "outputs": [],
   "source": [
    "import random\n",
    "import math\n",
    "from functools import lru_cache"
   ]
  },
  {
   "cell_type": "code",
   "execution_count": 2,
   "metadata": {},
   "outputs": [],
   "source": [
    "import metaheuristics as mh"
   ]
  },
  {
   "cell_type": "code",
   "execution_count": 3,
   "metadata": {},
   "outputs": [],
   "source": [
    "class Michalewicz(mh.abstract.Problem):\n",
    "    \n",
    "    def __init__(self, d, m, *args, **kwargs):\n",
    "        self.d = d\n",
    "        self.m = m\n",
    "        super().__init__(*args, **kwargs)\n",
    "    \n",
    "    def config(self):\n",
    "        pass\n",
    "\n",
    "    @property\n",
    "    def random_solution(self):\n",
    "        return Solution(self)\n",
    "\n",
    "    def solution(self, *args, **kwargs):\n",
    "        return Solution(self, *args, **kwargs)\n",
    "    \n",
    "    def reset(self):\n",
    "        pass\n",
    "    \n",
    "    @property\n",
    "    def difficulty(self):\n",
    "        return self.d\n",
    "    \n",
    "    def __hash__(self):\n",
    "        return self.m"
   ]
  },
  {
   "cell_type": "code",
   "execution_count": 4,
   "metadata": {},
   "outputs": [],
   "source": [
    "class Solution(mh.utils.BaseSolutionMixin, mh.abstract.Solution):\n",
    "    \n",
    "    def __init__(self, problem, sequence=None):\n",
    "        super().__init__(problem, sequence=sequence)\n",
    "\n",
    "    @property\n",
    "    def sequence(self):\n",
    "        if not self.__sequence:\n",
    "            self.__sequence = [random.uniform(0, math.pi) for i in range(self.problem.d)]\n",
    "        return self.__sequence\n",
    "\n",
    "    @sequence.setter\n",
    "    def sequence(self, value):\n",
    "        self.__sequence = value\n",
    "        self.__cost = None\n",
    "        \n",
    "    @property\n",
    "    def is_complete(self):\n",
    "        return not self.is_partial\n",
    "\n",
    "    @property\n",
    "    def is_partial(self):\n",
    "        return False\n",
    "    \n",
    "    def _correct(self):\n",
    "        return True\n",
    "    \n",
    "    @property\n",
    "    def correct(self):\n",
    "        return self._correct()\n",
    "    \n",
    "    @lru_cache(maxsize=2 ** 20)\n",
    "    def _cost(self):\n",
    "        return -sum(\n",
    "            math.sin(x) * (math.sin(((i+1) * x**2)/math.pi))**(2*self.problem.m)\n",
    "            for i, x in enumerate(self.sequence))\n",
    "    \n",
    "    @property\n",
    "    def cost(self):\n",
    "        return self._cost()"
   ]
  },
  {
   "cell_type": "code",
   "execution_count": 5,
   "metadata": {},
   "outputs": [],
   "source": [
    "problem = Michalewicz(d=5, m=5)"
   ]
  },
  {
   "cell_type": "code",
   "execution_count": 6,
   "metadata": {},
   "outputs": [
    {
     "data": {
      "text/plain": [
       "[2.185516171994295, 1.5707811603469786, 1.2864213379873104, 1.9223310432847303, 1.721391065985426] - -4.69"
      ]
     },
     "execution_count": 6,
     "metadata": {},
     "output_type": "execute_result"
    }
   ],
   "source": [
    "ts = mh.algorithms.TabuSearch(\n",
    "    problem,\n",
    "    n_iters=5000,\n",
    "    search_operator=mh.utils.tweak(2, 5, 0, .5)\n",
    ")\n",
    "ts()\n",
    "ts.best_solution"
   ]
  },
  {
   "cell_type": "code",
   "execution_count": 7,
   "metadata": {},
   "outputs": [],
   "source": [
    "res = []\n",
    "\n",
    "for _ in range(10):\n",
    "    ts = mh.algorithms.TabuSearch(\n",
    "        problem,\n",
    "        n_iters=5000,\n",
    "        search_operator=mh.utils.tweak(2, 5, 0, .5)\n",
    "    )\n",
    "    ts()\n",
    "    res.append(ts.best_solution.cost)"
   ]
  },
  {
   "cell_type": "code",
   "execution_count": 8,
   "metadata": {
    "scrolled": true
   },
   "outputs": [
    {
     "data": {
      "text/plain": [
       "[-4.693331446249454,\n",
       " -4.693404247541943,\n",
       " -4.693257644606561,\n",
       " -4.691844638041525,\n",
       " -4.69343292266179,\n",
       " -4.69341210830257,\n",
       " -4.693380184090866,\n",
       " -4.693271700752772,\n",
       " -4.69335247842594,\n",
       " -4.692777060811082]"
      ]
     },
     "execution_count": 8,
     "metadata": {},
     "output_type": "execute_result"
    }
   ],
   "source": [
    "res"
   ]
  },
  {
   "cell_type": "code",
   "execution_count": 9,
   "metadata": {},
   "outputs": [
    {
     "data": {
      "text/plain": [
       "[2.198114511961814, 7.5373770586749105, 1.2864913499192872, 1.108158367379031, 1.719821936025526] - -4.59"
      ]
     },
     "execution_count": 9,
     "metadata": {},
     "output_type": "execute_result"
    }
   ],
   "source": [
    "sa = mh.algorithms.SimulatedAnnealing(\n",
    "    problem,\n",
    "    n_iters=5000,\n",
    "    search_operator=mh.utils.tweak(2, 5, 0, .5)\n",
    ")\n",
    "sa()\n",
    "sa.best_solution"
   ]
  },
  {
   "cell_type": "code",
   "execution_count": 10,
   "metadata": {},
   "outputs": [],
   "source": [
    "res = []\n",
    "\n",
    "for _ in range(10):\n",
    "    sa = mh.algorithms.SimulatedAnnealing(\n",
    "        problem,\n",
    "        n_iters=5000,\n",
    "        search_operator=mh.utils.tweak(2, 5, 0, .5)\n",
    "    )\n",
    "    sa()\n",
    "    res.append(sa.best_solution.cost)"
   ]
  },
  {
   "cell_type": "code",
   "execution_count": 11,
   "metadata": {},
   "outputs": [
    {
     "data": {
      "text/plain": [
       "[-4.6703445499540335,\n",
       " -4.633974611789599,\n",
       " -4.59771781715317,\n",
       " -4.639219490861327,\n",
       " -4.658755389849041,\n",
       " -4.606920505583271,\n",
       " -4.78065610128027,\n",
       " -4.570038757248499,\n",
       " -4.599668445552558,\n",
       " -4.632864733568315]"
      ]
     },
     "execution_count": 11,
     "metadata": {},
     "output_type": "execute_result"
    }
   ],
   "source": [
    "res"
   ]
  },
  {
   "cell_type": "code",
   "execution_count": 12,
   "metadata": {},
   "outputs": [
    {
     "data": {
      "text/plain": [
       "[2.1984392576999188, 1.5635791373212444, 2.248297103478114, 1.901653510209611, 1.7345621003331324] - -4.38"
      ]
     },
     "execution_count": 12,
     "metadata": {},
     "output_type": "execute_result"
    }
   ],
   "source": [
    "ga = mh.algorithms.Genetic(\n",
    "    problem,\n",
    "    pop_size=50,\n",
    "    n_iters=5000,\n",
    "    crossover=mh.utils.continuous_order_crossover,\n",
    "    prob_mutation=0.1,\n",
    "    search_operator=mh.utils.tweak(2, 5, 0, .5)\n",
    ")\n",
    "ga()\n",
    "ga.best_solution"
   ]
  },
  {
   "cell_type": "code",
   "execution_count": 13,
   "metadata": {},
   "outputs": [],
   "source": [
    "res = []\n",
    "\n",
    "for _ in range(10):\n",
    "    ga = mh.algorithms.Genetic(\n",
    "        problem,\n",
    "        pop_size=50,\n",
    "        n_iters=10_000,\n",
    "        crossover=mh.utils.continuous_order_crossover,\n",
    "        prob_mutation=0.1,\n",
    "        search_operator=mh.utils.tweak(2, 5, 0, .5)\n",
    "    )\n",
    "    ga()\n",
    "    res.append(ga.best_solution.cost)"
   ]
  },
  {
   "cell_type": "code",
   "execution_count": 14,
   "metadata": {
    "scrolled": true
   },
   "outputs": [
    {
     "data": {
      "text/plain": [
       "[-4.085004709306434,\n",
       " -4.051410449372484,\n",
       " -4.019196616558486,\n",
       " -4.323702010794092,\n",
       " -3.99276341752074,\n",
       " -4.026708212363287,\n",
       " -4.119574118685985,\n",
       " -4.264054277719343,\n",
       " -4.377642830352868,\n",
       " -4.3155804591740905]"
      ]
     },
     "execution_count": 14,
     "metadata": {},
     "output_type": "execute_result"
    }
   ],
   "source": [
    "res"
   ]
  }
 ],
 "metadata": {
  "kernelspec": {
   "display_name": "Python 3",
   "language": "python",
   "name": "python3"
  },
  "language_info": {
   "codemirror_mode": {
    "name": "ipython",
    "version": 3
   },
   "file_extension": ".py",
   "mimetype": "text/x-python",
   "name": "python",
   "nbconvert_exporter": "python",
   "pygments_lexer": "ipython3",
   "version": "3.7.6"
  }
 },
 "nbformat": 4,
 "nbformat_minor": 2
}
