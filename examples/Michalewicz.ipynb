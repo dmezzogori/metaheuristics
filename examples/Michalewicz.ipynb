{
 "cells": [
  {
   "cell_type": "code",
   "execution_count": 1,
   "metadata": {},
   "outputs": [],
   "source": [
    "import random\n",
    "import math\n",
    "from functools import lru_cache"
   ]
  },
  {
   "cell_type": "code",
   "execution_count": 2,
   "metadata": {},
   "outputs": [],
   "source": [
    "import metaheuristics as mh"
   ]
  },
  {
   "cell_type": "code",
   "execution_count": 3,
   "metadata": {},
   "outputs": [],
   "source": [
    "class Michalewicz(mh.abstract.Problem):\n",
    "    \n",
    "    def __init__(self, d, m, *args, **kwargs):\n",
    "        self.d = d\n",
    "        self.m = m\n",
    "        super().__init__(*args, **kwargs)\n",
    "    \n",
    "    def config(self):\n",
    "        pass\n",
    "\n",
    "    @property\n",
    "    def random_solution(self):\n",
    "        return Solution(self)\n",
    "\n",
    "    def solution(self, *args, **kwargs):\n",
    "        return Solution(self, *args, **kwargs)\n",
    "    \n",
    "    def reset(self):\n",
    "        pass\n",
    "    \n",
    "    @property\n",
    "    def difficulty(self):\n",
    "        return self.d\n",
    "    \n",
    "    def __hash__(self):\n",
    "        return self.m"
   ]
  },
  {
   "cell_type": "code",
   "execution_count": 4,
   "metadata": {},
   "outputs": [],
   "source": [
    "class Solution(mh.utils.BaseSolutionMixin, mh.abstract.Solution):\n",
    "    \n",
    "    def __init__(self, problem, sequence=None):\n",
    "        super().__init__(problem, sequence=sequence)\n",
    "\n",
    "    @property\n",
    "    def sequence(self):\n",
    "        if not self.__sequence:\n",
    "            self.__sequence = [random.uniform(0, math.pi) for i in range(self.problem.d)]\n",
    "        return self.__sequence\n",
    "\n",
    "    @sequence.setter\n",
    "    def sequence(self, value):\n",
    "        self.__sequence = value\n",
    "        self.__cost = None\n",
    "        \n",
    "    @property\n",
    "    def is_complete(self):\n",
    "        return not self.is_partial\n",
    "\n",
    "    @property\n",
    "    def is_partial(self):\n",
    "        return False\n",
    "    \n",
    "    def _correct(self):\n",
    "        return True\n",
    "    \n",
    "    @property\n",
    "    def correct(self):\n",
    "        return self._correct()\n",
    "    \n",
    "    @lru_cache(maxsize=2 ** 20)\n",
    "    def _cost(self):\n",
    "        return -sum(\n",
    "            math.sin(x) * (math.sin(((i+1) * x**2)/math.pi))**(2*self.problem.m)\n",
    "            for i, x in enumerate(self.sequence))\n",
    "    \n",
    "    @property\n",
    "    def cost(self):\n",
    "        return self._cost()"
   ]
  },
  {
   "cell_type": "code",
   "execution_count": 5,
   "metadata": {},
   "outputs": [],
   "source": [
    "problem = Michalewicz(d=5, m=5)"
   ]
  },
  {
   "cell_type": "code",
   "execution_count": 6,
   "metadata": {},
   "outputs": [
    {
     "data": {
      "text/plain": [
       "[2.1339442931203787, 1.5681958937023572, 1.3572259647215543, 1.1585242928077155, 2.218042541386396] - -4.23"
      ]
     },
     "execution_count": 6,
     "metadata": {},
     "output_type": "execute_result"
    }
   ],
   "source": [
    "ga = mh.algorithms.Genetic(\n",
    "    problem,\n",
    "    pop_size=50,\n",
    "    n_iters=5000,\n",
    "    crossover=mh.utils.continuous_order_crossover,\n",
    "    prob_mutation=0.1,\n",
    "    search_operator=mh.utils.tweak(2, 5, 0, .5)\n",
    ")\n",
    "ga()\n",
    "ga.best_solution"
   ]
  },
  {
   "cell_type": "code",
   "execution_count": 7,
   "metadata": {},
   "outputs": [],
   "source": [
    "res = []\n",
    "\n",
    "for _ in range(10):\n",
    "    ga = mh.algorithms.Genetic(\n",
    "        problem,\n",
    "        pop_size=50,\n",
    "        n_iters=10_000,\n",
    "        crossover=mh.utils.continuous_order_crossover,\n",
    "        prob_mutation=0.1,\n",
    "        search_operator=mh.utils.tweak(2, 5, 0, .5)\n",
    "    )\n",
    "    ga()\n",
    "    res.append(ga.best_solution.cost)"
   ]
  },
  {
   "cell_type": "code",
   "execution_count": 8,
   "metadata": {
    "scrolled": true
   },
   "outputs": [
    {
     "data": {
      "text/plain": [
       "[-4.090002879278165,\n",
       " -3.999122377580548,\n",
       " -4.004419451626054,\n",
       " -4.3093813418725695,\n",
       " -3.793699871530604,\n",
       " -4.388790476947727,\n",
       " -4.418710550944052,\n",
       " -4.198773965978493,\n",
       " -4.127912680043396,\n",
       " -4.492311433852174]"
      ]
     },
     "execution_count": 8,
     "metadata": {},
     "output_type": "execute_result"
    }
   ],
   "source": [
    "res"
   ]
  }
 ],
 "metadata": {
  "kernelspec": {
   "display_name": "Python 3",
   "language": "python",
   "name": "python3"
  },
  "language_info": {
   "codemirror_mode": {
    "name": "ipython",
    "version": 3
   },
   "file_extension": ".py",
   "mimetype": "text/x-python",
   "name": "python",
   "nbconvert_exporter": "python",
   "pygments_lexer": "ipython3",
   "version": "3.7.4"
  }
 },
 "nbformat": 4,
 "nbformat_minor": 2
}
